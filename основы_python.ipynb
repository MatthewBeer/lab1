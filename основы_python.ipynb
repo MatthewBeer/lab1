{
  "cells": [
    {
      "cell_type": "markdown",
      "metadata": {
        "id": "M-DGa20PaHnu"
      },
      "source": [
        "#Задача 1\n",
        "Написать функцию на вход которой подается строка, состоящая из латинских букв.\n",
        "Функция должна вернуть количество гласных букв (a, e, i, o, u) в этой строке. Написать тесты для кода"
      ]
    },
    {
      "cell_type": "code",
      "execution_count": 1,
      "metadata": {
        "id": "XvX8X_JJ6PCb"
      },
      "outputs": [
        {
          "name": "stdout",
          "output_type": "stream",
          "text": [
            "4\n",
            "2\n"
          ]
        }
      ],
      "source": [
        "# Your code goes here\n",
        "def number_of_glas_letters(a):\n",
        "    count = 0\n",
        "    glas_letters = \"AaEeIiOoUu\"\n",
        "    for i in range(0, len(a)):\n",
        "        if a[i] in glas_letters:\n",
        "            count += 1 \n",
        "    return count\n",
        "print(number_of_glas_letters('gAgaogi'))\n",
        "print(number_of_glas_letters('privEt'))\n"
      ]
    },
    {
      "cell_type": "markdown",
      "metadata": {
        "id": "t2ClV_Y0bbr6"
      },
      "source": [
        "# Задача 2\n",
        "Написать функцию на вход, которой подается строка. Функция должна вернуть true, если\n",
        "каждый символ в строке встречается только 1 раз, иначе должна вернуть false. Написать тесты для кода"
      ]
    },
    {
      "cell_type": "code",
      "execution_count": 2,
      "metadata": {
        "id": "FppbECao6VIz"
      },
      "outputs": [
        {
          "name": "stdout",
          "output_type": "stream",
          "text": [
            "True\n",
            "False\n"
          ]
        }
      ],
      "source": [
        "# Your code goes here\n",
        "def is_unique_chars(s: str) -> bool:\n",
        "    return len(set(s)) == len(s)\n",
        "\n",
        "print(is_unique_chars(\"privet\"))\n",
        "print(is_unique_chars(\"kakdela\"))"
      ]
    },
    {
      "cell_type": "markdown",
      "metadata": {
        "id": "udRiIK1cdt6E"
      },
      "source": [
        "# Задача 3\n",
        "Написать функцию, которая принимает положительное число и возвращает количество\n",
        "бит равных 1 в этом числе. Написать тесты для кода"
      ]
    },
    {
      "cell_type": "code",
      "execution_count": 7,
      "metadata": {
        "id": "6tkfDJRz6dp_"
      },
      "outputs": [
        {
          "name": "stdout",
          "output_type": "stream",
          "text": [
            "2 2\n",
            "0b1010 2\n"
          ]
        }
      ],
      "source": [
        "# Your code goes here\n",
        "def count_bits(number: int) -> int:\n",
        "    if number <= 0:\n",
        "        return\n",
        "    \n",
        "    return bin(number).count('1')\n",
        "\n",
        "print(bin(5).count('1'), count_bits(5))\n",
        "print(bin(10), count_bits(10))"
      ]
    },
    {
      "cell_type": "markdown",
      "metadata": {
        "id": "26dDUz-Ae17N"
      },
      "source": [
        "# Задача 4\n",
        "Написать функцию, которая принимает положительное число. Функция должна вернуть то,\n",
        "сколько раз необходимо перемножать цифры числа или результат перемножения, чтобы\n",
        "получилось число состоящее из одной цифры.\n",
        "Например, для входного числа:\n",
        "· 39 функция должна вернуть 3, так как 3*9=27 => 2*7=14 => 1*4=4\n",
        "· 4 функция должна вернуть 0, так как число уже состоит из одной цифры\n",
        "· 999 функция должна вернуть 4, так как 9*9*9=729 => 7*2*9=126 => 1*2*6=12 =>\n",
        "1*2=2. Написать тесты для кода"
      ]
    },
    {
      "cell_type": "code",
      "execution_count": 8,
      "metadata": {
        "id": "BH1A_Mgi6i4G"
      },
      "outputs": [
        {
          "name": "stdout",
          "output_type": "stream",
          "text": [
            "3\n",
            "0\n",
            "4\n"
          ]
        }
      ],
      "source": [
        "def magic(n: int) -> int:\n",
        "    steps = 0\n",
        "    while n >= 10:\n",
        "        product = 1\n",
        "        while n > 0:\n",
        "            product *= n % 10\n",
        "            n //= 10\n",
        "        n = product\n",
        "        steps += 1\n",
        "    return steps\n",
        "print(magic(39))\n",
        "print(magic(0))\n",
        "print(magic(999))"
      ]
    },
    {
      "cell_type": "markdown",
      "metadata": {
        "id": "0nS-kIa8g8vd"
      },
      "source": [
        "# Задача 5\n",
        "Написать функцию, которая принимает два целочисленных вектора одинаковой длины и\n",
        "возвращает среднеквадратическое отклонение двух векторов. Написать тесты для кода"
      ]
    },
    {
      "cell_type": "code",
      "execution_count": 11,
      "metadata": {
        "id": "8iphx4LM6xbx"
      },
      "outputs": [
        {
          "name": "stdout",
          "output_type": "stream",
          "text": [
            "3.7416573867739413\n"
          ]
        }
      ],
      "source": [
        "import math\n",
        "\n",
        "def mse(v1: list, v2: list) -> float:\n",
        "\n",
        "    if len(v1) != len(v2):\n",
        "        return(\"Векторы должны иметь одинаковую длину.\")\n",
        "\n",
        "    n = len(v1)\n",
        "    sum_of_squares = sum((v1[i] - v2[i]) ** 2 for i in range(n))\n",
        "    mean_square_difference = sum_of_squares / n\n",
        "    std_deviation = math.sqrt(mean_square_difference)\n",
        "\n",
        "    return std_deviation\n",
        "p1 = [8,6,6,3,3]\n",
        "p2 = [3,2,4,7,0]\n",
        "print(mse(p1, p2))"
      ]
    },
    {
      "cell_type": "markdown",
      "metadata": {
        "id": "vpIPKL439zkw"
      },
      "source": [
        "# Задача 6\n",
        "Написать функцию, принимающая целое положительное число. Функция должна вернуть\n",
        "строку вида “(n1**p1)(n2**p2)…(nk**pk)” представляющая разложение числа на простые\n",
        "множители (если pi == 1, то выводить только ni).\n",
        "Например, для числа 86240 функция должна вернуть “(2**5)(5)(7**2)(11)”. Написать тесты для кода"
      ]
    },
    {
      "cell_type": "code",
      "execution_count": 13,
      "metadata": {
        "id": "pFebmcZk94Jw"
      },
      "outputs": [
        {
          "name": "stdout",
          "output_type": "stream",
          "text": [
            "2(5)\n",
            "2(3^2)5(7)\n"
          ]
        }
      ],
      "source": [
        "# Your code goes here\n",
        "def prime_factorization(n: int) -> str:\n",
        "\n",
        "    factors = []\n",
        "    current_num = n\n",
        "    divisor = 2\n",
        "\n",
        "    while current_num > 1:\n",
        "        power = 0\n",
        "        while current_num % divisor == 0:\n",
        "            current_num //= divisor\n",
        "            power += 1\n",
        "        if power > 0:\n",
        "            if power == 1:\n",
        "                factors.append(f\"{divisor}\")\n",
        "            else:\n",
        "                factors.append(f\"({divisor}^{power})\")\n",
        "        divisor += 1\n",
        "        if divisor * divisor > current_num:\n",
        "            break\n",
        "    if current_num > 1:\n",
        "        factors.append(f\"({current_num})\")\n",
        "\n",
        "    return \"\".join(factors)\n",
        "\n",
        "print(prime_factorization(10))\n",
        "print(prime_factorization(630))"
      ]
    },
    {
      "cell_type": "markdown",
      "metadata": {
        "id": "ps2s0BudX7A2"
      },
      "source": [
        "# Задача 7\n",
        "Написать функцию, принимающая целое число n, задающее количество кубиков. Функция\n",
        "должна определить, можно ли из данного кол-ва кубиков построить пирамиду, то есть\n",
        "можно ли представить число n как 1^2+2^2+3^2+…+k^2. Если можно, то функция должна\n",
        "вернуть k, иначе строку “It is impossible”. Написать тесты для кода"
      ]
    },
    {
      "cell_type": "code",
      "execution_count": 22,
      "metadata": {
        "id": "3YPjEXxhX_YT"
      },
      "outputs": [
        {
          "name": "stdout",
          "output_type": "stream",
          "text": [
            "5\n",
            "It is impossible\n",
            "It is impossible\n"
          ]
        }
      ],
      "source": [
        "import math\n",
        "def pyramid(number: int) -> str or int:\n",
        "\n",
        "    if number <= 0:\n",
        "        return \"It is impossible\"\n",
        "\n",
        "    k = int(math.isqrt(6 * number))\n",
        "\n",
        "    while k > 0:\n",
        "        sum_of_squares = k * (k + 1) * (2 * k + 1) // 6\n",
        "        if sum_of_squares == number:\n",
        "            return k\n",
        "        elif sum_of_squares > number:\n",
        "            k -= 1\n",
        "        else:\n",
        "            break\n",
        "\n",
        "    return \"It is impossible\"\n",
        "\n",
        "print(pyramid(55))\n",
        "print(pyramid(222))\n",
        "print(pyramid(102))\n",
        "\n"
      ]
    },
    {
      "cell_type": "markdown",
      "metadata": {
        "id": "KeKgmIdAQMEJ"
      },
      "source": [
        "# Задача 8\n",
        "Функция принимает на вход положительное число и определяет является ли оно сбалансированным, т.е. сумма цифр до средних равна сумме цифр после. Средними в случае нечетного числа цифр считать одну цифру, в случае четного - две средних. Написать тесты для кода"
      ]
    },
    {
      "cell_type": "code",
      "execution_count": 26,
      "metadata": {
        "id": "gMAAqtqlQrZt"
      },
      "outputs": [
        {
          "name": "stdout",
          "output_type": "stream",
          "text": [
            "True\n",
            "False\n"
          ]
        }
      ],
      "source": [
        "# Your code goes here\n",
        "def balanced_number(n: int) -> bool:\n",
        "\n",
        "    digits = [int(digit) for digit in str(n)]\n",
        "    length = len(digits)\n",
        "\n",
        "    if length < 3:\n",
        "        return False\n",
        "\n",
        "    middle_index = length // 2\n",
        "    left_sum = sum(digits[:middle_index])\n",
        "    right_sum = sum(digits[middle_index + (length % 2):])\n",
        "\n",
        "    return left_sum == right_sum\n",
        "\n",
        "print(balanced_number(12321))\n",
        "print(balanced_number(1234567890954321))"
      ]
    }
  ],
  "metadata": {
    "colab": {
      "provenance": []
    },
    "kernelspec": {
      "display_name": "Python 3",
      "name": "python3"
    },
    "language_info": {
      "codemirror_mode": {
        "name": "ipython",
        "version": 3
      },
      "file_extension": ".py",
      "mimetype": "text/x-python",
      "name": "python",
      "nbconvert_exporter": "python",
      "pygments_lexer": "ipython3",
      "version": "3.11.3"
    }
  },
  "nbformat": 4,
  "nbformat_minor": 0
}
